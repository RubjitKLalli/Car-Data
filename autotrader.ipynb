{
 "cells": [
  {
   "cell_type": "code",
   "execution_count": 48,
   "metadata": {},
   "outputs": [],
   "source": [
    "import pandas as pd\n",
    "import numpy as np \n",
    "\n",
    "import requests \n",
    "from bs4 import BeautifulSoup as bs\n",
    "import selenium \n",
    "import random\n",
    "\n",
    "from urllib.request import Request, urlopen\n",
    "import urllib3"
   ]
  },
  {
   "cell_type": "code",
   "execution_count": 92,
   "metadata": {},
   "outputs": [],
   "source": [
    "url = \"https://www.autotrader.co.uk/car-search?postcode=sl15pf&radius=1500&include-delivery-option=on\"\n",
    "headers = {\"User-Agent\": \"Mozilla/5.0 (Windows NT 10.0; Win64; x64)\"}\n",
    "pages = requests.get(url,headers =headers)\n",
    "soup = bs(pages.content, \"html.parser\")"
   ]
  },
  {
   "cell_type": "code",
   "execution_count": 107,
   "metadata": {},
   "outputs": [],
   "source": [
    "result = soup.find_all(\"li\",class_=\"atc-type-picanto--medium\")"
   ]
  },
  {
   "cell_type": "code",
   "execution_count": 134,
   "metadata": {},
   "outputs": [],
   "source": [
    "def each_car(result):\n",
    "    cars = []\n",
    "    for i in range(0,len(result)):\n",
    "        i = result[i].text\n",
    "        cars.append(i)\n",
    "    return cars\n",
    "\n"
   ]
  },
  {
   "cell_type": "code",
   "execution_count": 138,
   "metadata": {},
   "outputs": [
    {
     "data": {
      "text/plain": [
       "74"
      ]
     },
     "execution_count": 138,
     "metadata": {},
     "output_type": "execute_result"
    }
   ],
   "source": [
    "len(each_car(result))"
   ]
  },
  {
   "cell_type": "code",
   "execution_count": 136,
   "metadata": {},
   "outputs": [],
   "source": [
    "result1 = soup.find_all(\"div\",class_=\"product-card-pricing__price\")"
   ]
  },
  {
   "cell_type": "code",
   "execution_count": 143,
   "metadata": {},
   "outputs": [
    {
     "data": {
      "text/plain": [
       "['\\n£489\\n',\n",
       " '\\n£2,390\\n',\n",
       " '\\n£2,500\\n',\n",
       " '\\n£899\\n',\n",
       " '\\n£495\\n',\n",
       " '\\n£750\\n',\n",
       " '\\n£799\\n',\n",
       " '\\n£1,559\\n',\n",
       " '\\n£800\\n',\n",
       " '\\n£2,500\\n',\n",
       " '\\n£8,045\\n']"
      ]
     },
     "execution_count": 143,
     "metadata": {},
     "output_type": "execute_result"
    }
   ],
   "source": [
    "each_car(result1)"
   ]
  },
  {
   "cell_type": "code",
   "execution_count": 147,
   "metadata": {},
   "outputs": [
    {
     "data": {
      "text/plain": [
       "['\\nToyota Avensis\\n    ',\n",
       " '\\nVauxhall Astra\\n    ',\n",
       " '\\nVauxhall Corsa\\n    ',\n",
       " '\\nRenault Clio\\n    ',\n",
       " '\\nMazda2\\n    ',\n",
       " '\\nVolkswagen Golf\\n    ',\n",
       " '\\nVauxhall Astra\\n    ',\n",
       " '\\nReva G-Wiz\\n    ',\n",
       " '\\nBMW 3 Series\\n    ',\n",
       " '\\nVauxhall Astra\\n    ',\n",
       " '\\nCitroen AMI\\n    ']"
      ]
     },
     "execution_count": 147,
     "metadata": {},
     "output_type": "execute_result"
    }
   ],
   "source": [
    "result2 = soup.find_all(\"h3\",class_=\"product-card-details__title\")\n",
    "each_car(result2)"
   ]
  },
  {
   "cell_type": "code",
   "execution_count": 150,
   "metadata": {},
   "outputs": [],
   "source": [
    "result3 = soup.find_all(\"p\",class_=\"product-card-details__subtitle\")\n"
   ]
  },
  {
   "cell_type": "code",
   "execution_count": 151,
   "metadata": {},
   "outputs": [
    {
     "data": {
      "text/plain": [
       "['\\n2.0 D-4D TR 5dr\\n    ',\n",
       " '\\n1.6 16v SE Euro 5 5dr\\n    ',\n",
       " '\\n1.2 16V Limited Edition Euro 5 3dr\\n    ',\n",
       " '\\n1.6 GT 3d 127 BHP SELLING AS SPARES/REPAIRS\\n    ',\n",
       " '\\n1.4D TS2 Euro 4 5dr\\n    ',\n",
       " '\\n1.9 TDI PD S Estate 5dr Diesel Manual (149 g/km, 130 bhp)\\n    ',\n",
       " '\\n1.4i 16v SXi Sport Hatch 3dr\\n    ',\n",
       " '\\n',\n",
       " '\\n2.2 320Ci 320 SE 2dr\\n    ',\n",
       " '\\n1.6 16v Exclusiv Euro 5 5dr\\n    ',\n",
       " '\\n5.5kWh Auto 2dr\\n    ']"
      ]
     },
     "execution_count": 151,
     "metadata": {},
     "output_type": "execute_result"
    }
   ],
   "source": [
    "each_car(result3)"
   ]
  },
  {
   "cell_type": "code",
   "execution_count": null,
   "metadata": {},
   "outputs": [],
   "source": []
  }
 ],
 "metadata": {
  "kernelspec": {
   "display_name": "Developer101",
   "language": "python",
   "name": "python3"
  },
  "language_info": {
   "codemirror_mode": {
    "name": "ipython",
    "version": 3
   },
   "file_extension": ".py",
   "mimetype": "text/x-python",
   "name": "python",
   "nbconvert_exporter": "python",
   "pygments_lexer": "ipython3",
   "version": "3.9.15"
  },
  "orig_nbformat": 4,
  "vscode": {
   "interpreter": {
    "hash": "c9bc3aa340b5d565a682d29a57179fc00579f9a170036376ebf76e3e5bd0d589"
   }
  }
 },
 "nbformat": 4,
 "nbformat_minor": 2
}
